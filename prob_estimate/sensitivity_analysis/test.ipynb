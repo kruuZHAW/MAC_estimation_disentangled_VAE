{
 "cells": [
  {
   "cell_type": "code",
   "execution_count": 1,
   "metadata": {},
   "outputs": [],
   "source": [
    "from deep_traffic_generation.tcvae_pairs_disent import TCVAE_Pairs_disent\n",
    "from deep_traffic_generation.VAE_Generation import PairsVAE\n",
    "from traffic.algorithms.generation import Generation\n",
    "from deep_traffic_generation.core.datasets import TrafficDatasetPairsRandom\n",
    "from traffic.core import Traffic\n",
    "\n",
    "import openturns as ot\n",
    "from sklearn.preprocessing import MinMaxScaler\n",
    "import torch\n",
    "import numpy as np\n",
    "from tqdm import tqdm"
   ]
  },
  {
   "cell_type": "markdown",
   "metadata": {},
   "source": [
    "# Test of Sobol"
   ]
  },
  {
   "cell_type": "code",
   "execution_count": 2,
   "metadata": {},
   "outputs": [],
   "source": [
    "dataset = TrafficDatasetPairsRandom.from_file(\n",
    "    (\"../../deep_traffic_generation/data/training_datasets/to_LSZH_16_50_bb.pkl\", \"../../deep_traffic_generation/data/training_datasets/ga_LSZH_14_50_bb.pkl\"),\n",
    "    features=[\"track\", \"groundspeed\", \"altitude\", \"timedelta\"],\n",
    "    n_samples = 10000,\n",
    "    scaler=MinMaxScaler(feature_range=(-1,1)),\n",
    "    shape=\"image\",\n",
    "    info_params={\"features\": [\"latitude\", \"longitude\"], \"index\": -1},\n",
    ")\n",
    "\n",
    "path = \"../../deep_traffic_generation/lightning_logs/tcvae_pairs_disent/version_22/\"\n",
    "\n",
    "t = PairsVAE(X = dataset, vae_type=\"TCVAEPairs_disent\", sim_type = \"generation\")\n",
    "t.load(path, dataset.parameters)\n",
    "g = Generation(generation=t, features = t.VAE.hparams.features, scaler=dataset.scaler)  "
   ]
  },
  {
   "cell_type": "code",
   "execution_count": 3,
   "metadata": {},
   "outputs": [],
   "source": [
    "Z = t.latent_space(0)\n",
    "p_z = t.VAE.lsr.get_prior()\n",
    "\n",
    "marginals = []\n",
    "for i in range(Z.shape[1]):\n",
    "    collDist = [ot.Normal(mu.item(), sigma.item()) for mu, sigma in zip(p_z.base_dist.component_distribution.base_dist.loc.squeeze(2)[i], p_z.base_dist.component_distribution.base_dist.scale.squeeze(2)[i])]\n",
    "    weights = p_z.base_dist.mixture_distribution.probs[i].detach().numpy()\n",
    "    mixt = ot.Mixture(collDist, weights)\n",
    "    marginals.append(mixt)\n",
    "prior = ot.ComposedDistribution(marginals)\n"
   ]
  },
  {
   "cell_type": "code",
   "execution_count": 4,
   "metadata": {},
   "outputs": [],
   "source": [
    "def limit_state(z):\n",
    "    diam = 55\n",
    "    \n",
    "    z = np.array(z).reshape(1,-1)\n",
    "    z = torch.Tensor(z)\n",
    "    \n",
    "    #Decode latent representation into a pair of trajectories\n",
    "    decoded = t.decode(z)\n",
    "    to = g.build_traffic(decoded[:,:200], coordinates = dict(latitude =  47.44464, longitude = 8.55732), forward=True).iterate_lazy().resample(\"1s\").eval()\n",
    "    # to = to.assign(flight_id=lambda x: x.flight_id + \"_to\", inplace=True)\n",
    "    ga = g.build_traffic(decoded[:,200:], coordinates = dict(latitude = 47.500086, longitude = 8.51149), forward=True).iterate_lazy().resample(\"1s\").eval() \n",
    "    # ga = ga.assign(flight_id=lambda x: x.flight_id + \"_ga\", inplace=True)\n",
    "    \n",
    "    # Calulate distance between the two trajectories\n",
    "    dist = to[0].distance(ga[0])\n",
    "    dist[\"3d_distance\"] = dist.apply(lambda x: ((x.lateral*1852)**2 + (x.vertical*0.3048)**2)**0.5 - diam, axis=1) #distance between two spheres in m\n",
    "    min_dist = dist[\"3d_distance\"].min()\n",
    "    \n",
    "    return [min_dist]"
   ]
  },
  {
   "cell_type": "code",
   "execution_count": 11,
   "metadata": {},
   "outputs": [],
   "source": [
    "inputDesign = ot.SobolIndicesExperiment(prior, 10, True).generate()\n",
    "func = ot.PythonFunction(10, 1, limit_state)\n",
    "outputDesign = func(inputDesign)"
   ]
  },
  {
   "cell_type": "code",
   "execution_count": 12,
   "metadata": {},
   "outputs": [],
   "source": [
    "sensitivityAnalysis = ot.SaltelliSensitivityAlgorithm(inputDesign, outputDesign, 10)"
   ]
  },
  {
   "cell_type": "code",
   "execution_count": 13,
   "metadata": {},
   "outputs": [
    {
     "name": "stdout",
     "output_type": "stream",
     "text": [
      "[0.0952444,0.196688,0.269462,0.186242,0.978558,0.196456,0.147478,0.188603,0.223808,0.247418]#10\n"
     ]
    }
   ],
   "source": [
    "print(sensitivityAnalysis.getFirstOrderIndices())"
   ]
  },
  {
   "cell_type": "code",
   "execution_count": 14,
   "metadata": {},
   "outputs": [
    {
     "name": "stdout",
     "output_type": "stream",
     "text": [
      "[-0.0347741,0.0045096,0.111945,0.00437003,1.21767,0.00213047,0.108307,0.00348156,-0.0393188,-0.0322538]#10\n"
     ]
    }
   ],
   "source": [
    "print(sensitivityAnalysis.getTotalOrderIndices())"
   ]
  },
  {
   "cell_type": "code",
   "execution_count": 15,
   "metadata": {},
   "outputs": [
    {
     "name": "stdout",
     "output_type": "stream",
     "text": [
      "10x10\n",
      "[[  0        -0.371566 -0.376061 -0.371259 -0.253054 -0.373947 -0.357865 -0.371676 -0.386158 -0.394941 ]\n",
      " [ -0.371566  0        -0.373728 -0.374403 -0.364378 -0.374366 -0.374122 -0.374409 -0.374398 -0.373834 ]\n",
      " [ -0.376061 -0.373728  0        -0.553263 -0.433048 -0.550263 -0.5041   -0.55313  -0.568922 -0.550197 ]\n",
      " [ -0.371259 -0.374403 -0.553263  0        -0.35527  -0.360015 -0.359995 -0.360228 -0.36019  -0.360264 ]\n",
      " [ -0.253054 -0.364378 -0.433048 -0.35527   0        -0.331212 -0.366228 -0.322243 -0.305827 -0.179921 ]\n",
      " [ -0.373947 -0.374366 -0.550263 -0.360015 -0.331212  0        -0.405623 -0.417193 -0.425226 -0.42132  ]\n",
      " [ -0.357865 -0.374122 -0.5041   -0.359995 -0.366228 -0.405623  0        -0.324033 -0.342467 -0.299109 ]\n",
      " [ -0.371676 -0.374409 -0.55313  -0.360228 -0.322243 -0.417193 -0.324033  0        -0.363717 -0.363167 ]\n",
      " [ -0.386158 -0.374398 -0.568922 -0.36019  -0.305827 -0.425226 -0.342467 -0.363717  0        -0.40731  ]\n",
      " [ -0.394941 -0.373834 -0.550197 -0.360264 -0.179921 -0.42132  -0.299109 -0.363167 -0.40731   0        ]]\n"
     ]
    }
   ],
   "source": [
    "print(sensitivityAnalysis.getSecondOrderIndices())"
   ]
  },
  {
   "cell_type": "markdown",
   "metadata": {},
   "source": [
    "# Results of Sobol"
   ]
  },
  {
   "cell_type": "code",
   "execution_count": 2,
   "metadata": {},
   "outputs": [],
   "source": [
    "import pickle as pkl\n",
    "with open(\"results.pkl\", \"rb\") as f:\n",
    "    res = pkl.load(f)"
   ]
  },
  {
   "cell_type": "code",
   "execution_count": 14,
   "metadata": {},
   "outputs": [
    {
     "data": {
      "text/plain": [
       "array([0.00735562, 0.00679372, 0.0050899 , 0.00691051, 0.90953232,\n",
       "       0.00506132, 0.00300724, 0.00686713, 0.00811363, 0.04126861])"
      ]
     },
     "execution_count": 14,
     "metadata": {},
     "output_type": "execute_result"
    }
   ],
   "source": [
    "# percentage of the total variance explained by each factor\n",
    "np.abs(res[\"first order\"]) / np.abs(res[\"first order\"]).sum()"
   ]
  },
  {
   "cell_type": "code",
   "execution_count": 32,
   "metadata": {},
   "outputs": [
    {
     "data": {
      "image/png": "[encoded data removed]",
      "text/plain": [
       "<Figure size 640x480 with 1 Axes>"
      ]
     },
     "metadata": {},
     "output_type": "display_data"
    }
   ],
   "source": [
    "import matplotlib.pyplot as plt\n",
    "\n",
    "plt.style.use('ggplot')\n",
    "\n",
    "dic = {}\n",
    "for i, v in enumerate(res[\"first order\"]):\n",
    "    dic[\"Marginal \" + str(i+1)] = np.abs(v)\n",
    "\n",
    "# group together all elements in the dictionary whose value is less than 2\n",
    "# name this group 'All the rest'\n",
    "import itertools\n",
    "newdic={}\n",
    "for key, group in itertools.groupby(dic, lambda k: 'All the rest' if (dic[k]<0.01) else k):\n",
    "     newdic[key] = sum([dic[k] for k in list(group)])   \n",
    "\n",
    "labels = newdic.keys()\n",
    "sizes = newdic.values()\n",
    "\n",
    "fig, ax = plt.subplots()\n",
    "\n",
    "ax.pie(sizes, labels=labels, autopct='%1.1f%%', explode=(0,0,.1), startangle=0)\n",
    "ax.axis('equal')\n",
    "plt.tight_layout()\n",
    "\n",
    "plt.show()"
   ]
  },
  {
   "cell_type": "code",
   "execution_count": 15,
   "metadata": {},
   "outputs": [
    {
     "data": {
      "text/plain": [
       "array([1.16832038e-02, 2.60971948e-04, 1.48293121e-02, 2.50184560e-06,\n",
       "       8.37179762e-01, 5.21577445e-03, 8.23303242e-03, 1.90610041e-05,\n",
       "       1.12570153e-02, 1.11319365e-01])"
      ]
     },
     "execution_count": 15,
     "metadata": {},
     "output_type": "execute_result"
    }
   ],
   "source": [
    "np.abs(res[\"total order\"]) / np.abs(res[\"total order\"]).sum()"
   ]
  },
  {
   "cell_type": "code",
   "execution_count": null,
   "metadata": {},
   "outputs": [],
   "source": []
  }
 ],
 "metadata": {
  "kernelspec": {
   "display_name": "traffic",
   "language": "python",
   "name": "python3"
  },
  "language_info": {
   "codemirror_mode": {
    "name": "ipython",
    "version": 3
   },
   "file_extension": ".py",
   "mimetype": "text/x-python",
   "name": "python",
   "nbconvert_exporter": "python",
   "pygments_lexer": "ipython3",
   "version": "3.10.10"
  },
  "orig_nbformat": 4
 },
 "nbformat": 4,
 "nbformat_minor": 2
}
