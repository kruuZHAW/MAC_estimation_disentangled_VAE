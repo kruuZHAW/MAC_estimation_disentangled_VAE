{
 "cells": [
  {
   "cell_type": "code",
   "execution_count": 1,
   "metadata": {},
   "outputs": [],
   "source": [
    "from deep_traffic_generation.tcvae_pairs_disent import TCVAE_Pairs_disent\n",
    "from deep_traffic_generation.VAE_Generation import PairsVAE\n",
    "from traffic.algorithms.generation import Generation\n",
    "from deep_traffic_generation.core.datasets import TrafficDatasetPairsRandom\n",
    "from traffic.core import Traffic\n",
    "\n",
    "from sklearn.preprocessing import MinMaxScaler\n",
    "import openturns as ot\n",
    "import torch\n",
    "import pandas as pd\n",
    "import numpy as np\n",
    "from os import walk"
   ]
  },
  {
   "cell_type": "code",
   "execution_count": 2,
   "metadata": {},
   "outputs": [],
   "source": [
    "dataset = TrafficDatasetPairsRandom.from_file(\n",
    "    (\"../deep_traffic_generation/data/training_datasets/to_LSZH_16_50_bb.pkl\", \"../deep_traffic_generation/data/training_datasets/ga_LSZH_14_50_bb.pkl\"),\n",
    "    features=[\"track\", \"groundspeed\", \"altitude\", \"timedelta\"],\n",
    "    n_samples = 10000,\n",
    "    scaler=MinMaxScaler(feature_range=(-1,1)),\n",
    "    shape=\"image\",\n",
    "    info_params={\"features\": [\"latitude\", \"longitude\"], \"index\": -1},\n",
    ")\n",
    "\n",
    "path = \"../deep_traffic_generation/lightning_logs/tcvae_pairs_disent/version_22/\"\n",
    "\n",
    "t = PairsVAE(X = dataset, vae_type=\"TCVAEPairs_disent\", sim_type = \"generation\")\n",
    "t.load(path, dataset.parameters)\n",
    "gen_vae = Generation(generation=t, features = t.VAE.hparams.features, scaler=dataset.scaler) "
   ]
  },
  {
   "cell_type": "markdown",
   "metadata": {},
   "source": [
    "# MC by hand"
   ]
  },
  {
   "cell_type": "code",
   "execution_count": 31,
   "metadata": {},
   "outputs": [],
   "source": [
    "n_gen = 1000\n",
    "\n",
    "Z = t.latent_space(0)\n",
    "\n",
    "p_z = t.VAE.lsr.get_prior()\n",
    "z_gen = p_z.sample(torch.Size([n_gen])).squeeze(1)\n",
    "if len(z_gen.shape) == 3:\n",
    "    z_gen = z_gen.squeeze(2)\n",
    "gen = t.decode(z_gen)\n",
    "\n",
    "gen_traf_to = gen_vae.build_traffic(gen[:,:200], coordinates = dict(latitude =  47.44464, longitude = 8.55732), forward=True)\n",
    "gen_traf_to = gen_traf_to.assign(flight_id=lambda x: x.flight_id + \"_to\", inplace=True)\n",
    "gen_traf_to = gen_traf_to.resample(\"1s\").eval()\n",
    "\n",
    "gen_traf_ga = gen_vae.build_traffic(gen[:,200:], coordinates = dict(latitude = 47.500086, longitude = 8.51149), forward=True)\n",
    "gen_traf_ga = gen_traf_ga.assign(flight_id=lambda x: x.flight_id + \"_ga\", inplace=True)\n",
    "gen_traf_ga = gen_traf_ga.resample(\"1s\").eval()\n",
    "\n"
   ]
  },
  {
   "cell_type": "code",
   "execution_count": 54,
   "metadata": {},
   "outputs": [],
   "source": [
    "from multiprocessing import Pool\n",
    "import os\n",
    "\n",
    "def reassign_timestamp(iter):\n",
    "    t, ga = iter\n",
    "    nb = int(ga.flight_id.split(\"_\")[1])\n",
    "    \n",
    "    diff = ga.start - t.start\n",
    "\n",
    "    ga.data = ga.data.assign(\n",
    "        timestamp = ga.data.timestamp - diff + pd.to_timedelta(nb*15, unit=\"Min\")  \n",
    "        )\n",
    "    \n",
    "    t.data = t.data.assign(\n",
    "        timestamp = t.data.timestamp + pd.to_timedelta(nb*15, unit=\"Min\")  \n",
    "        )\n",
    "    \n",
    "    return t+ga\n",
    "    \n",
    "with Pool(processes=os.cpu_count()-10) as p: \n",
    "    result = p.map(reassign_timestamp, zip(gen_traf_to, gen_traf_ga))\n",
    "    p.close()\n",
    "    p.join()\n",
    "results = sum(result)    "
   ]
  },
  {
   "cell_type": "code",
   "execution_count": null,
   "metadata": {},
   "outputs": [],
   "source": [
    "# test = Traffic.from_file(\"../deep_traffic_generation/gen_crude_mc/gen_traf_gato.parquet\")"
   ]
  },
  {
   "cell_type": "markdown",
   "metadata": {},
   "source": [
    "# MC with OT"
   ]
  },
  {
   "cell_type": "code",
   "execution_count": 3,
   "metadata": {},
   "outputs": [],
   "source": [
    "Z = t.latent_space(0)\n",
    "p_z = t.VAE.lsr.get_prior()\n",
    "\n",
    "marginals = []\n",
    "for i in range(Z.shape[1]):\n",
    "    collDist = [ot.Normal(mu.item(), sigma.item()) for mu, sigma in zip(p_z.base_dist.component_distribution.base_dist.loc.squeeze(2)[i], p_z.base_dist.component_distribution.base_dist.scale.squeeze(2)[i])]\n",
    "    weights = p_z.base_dist.mixture_distribution.probs[i].detach().numpy()\n",
    "    mixt = ot.Mixture(collDist, weights)\n",
    "    marginals.append(mixt)\n",
    "prior = ot.ComposedDistribution(marginals)"
   ]
  },
  {
   "cell_type": "code",
   "execution_count": 4,
   "metadata": {},
   "outputs": [],
   "source": [
    "event_inputs = []\n",
    "\n",
    "def limit_state(z):\n",
    "    \"\"\"limit_state is the black box function for the sumbset samling. \n",
    "\n",
    "    inputs:\n",
    "        - z = a latent space vector from N(0,1)\n",
    "        \n",
    "    outputs:\n",
    "        - limit_state(X) = closest distance between the two trajectories of the pair\n",
    "    \"\"\"\n",
    "    diam = 55\n",
    "    \n",
    "    z = np.array(z).reshape(1,-1)\n",
    "    z = torch.Tensor(z)\n",
    "    \n",
    "    #Decode latent representation into a pair of trajectories\n",
    "    decoded = t.decode(z)\n",
    "    to = gen_vae.build_traffic(decoded[:,:200], coordinates = dict(latitude =  47.44464, longitude = 8.55732), forward=True).iterate_lazy().resample(\"1s\").eval()\n",
    "    to = to.assign(flight_id=lambda x: x.flight_id + \"_to\", inplace=True)\n",
    "    ga = gen_vae.build_traffic(decoded[:,200:], coordinates = dict(latitude = 47.500086, longitude = 8.51149), forward=True).iterate_lazy().resample(\"1s\").eval() \n",
    "    ga = ga.assign(flight_id=lambda x: x.flight_id + \"_ga\", inplace=True)\n",
    "    \n",
    "    # Calulate distance between the two trajectories\n",
    "    dist = to[0].distance(ga[0])\n",
    "    dist[\"3d_distance\"] = dist.apply(lambda x: ((x.lateral*1852)**2 + (x.vertical*0.3048)**2)**0.5 - diam, axis=1) #distance between two spheres in m\n",
    "    min_dist = dist[\"3d_distance\"].min()\n",
    "    \n",
    "    #keep inputs that are in the failure domain\n",
    "    if min_dist < 0:\n",
    "        event_inputs.append(z)\n",
    "    \n",
    "    return [min_dist]"
   ]
  },
  {
   "cell_type": "code",
   "execution_count": 11,
   "metadata": {},
   "outputs": [],
   "source": [
    "X = ot.RandomVector(prior)\n",
    "g = ot.PythonFunction(10, 1, limit_state)\n",
    "f = ot.MemoizeFunction(g)\n",
    "Y = ot.CompositeRandomVector(f, X)"
   ]
  },
  {
   "cell_type": "code",
   "execution_count": 12,
   "metadata": {},
   "outputs": [],
   "source": [
    "myEvent = ot.ThresholdEvent(Y, ot.LessOrEqual(), 0.0) \n",
    "experiment = ot.MonteCarloExperiment()\n",
    "algo = ot.ProbabilitySimulationAlgorithm(myEvent, experiment)\n",
    "algo.setMaximumOuterSampling(int(1e2))\n",
    "algo.run()"
   ]
  },
  {
   "cell_type": "code",
   "execution_count": 13,
   "metadata": {},
   "outputs": [
    {
     "name": "stdout",
     "output_type": "stream",
     "text": [
      "Pf= 0.0\n"
     ]
    }
   ],
   "source": [
    "result = algo.getResult()\n",
    "probability = result.getProbabilityEstimate()\n",
    "print(\"Pf=\", probability)"
   ]
  },
  {
   "cell_type": "code",
   "execution_count": 8,
   "metadata": {},
   "outputs": [],
   "source": [
    "import pickle as pkl\n",
    "with open(\"mc_failures\", \"wb\") as fp:\n",
    "    pkl.dump(event_inputs, fp)"
   ]
  },
  {
   "cell_type": "code",
   "execution_count": 14,
   "metadata": {},
   "outputs": [
    {
     "data": {
      "text/plain": [
       "0.25816015700852574"
      ]
     },
     "execution_count": 14,
     "metadata": {},
     "output_type": "execute_result"
    }
   ],
   "source": [
    "p = 3*1e-4\n",
    "n = 50000\n",
    "cv = np.sqrt((1-p)/(n*p))\n",
    "cv"
   ]
  },
  {
   "cell_type": "code",
   "execution_count": null,
   "metadata": {},
   "outputs": [],
   "source": []
  }
 ],
 "metadata": {
  "kernelspec": {
   "display_name": "traffic",
   "language": "python",
   "name": "python3"
  },
  "language_info": {
   "codemirror_mode": {
    "name": "ipython",
    "version": 3
   },
   "file_extension": ".py",
   "mimetype": "text/x-python",
   "name": "python",
   "nbconvert_exporter": "python",
   "pygments_lexer": "ipython3",
   "version": "3.10.10"
  },
  "orig_nbformat": 4
 },
 "nbformat": 4,
 "nbformat_minor": 2
}
