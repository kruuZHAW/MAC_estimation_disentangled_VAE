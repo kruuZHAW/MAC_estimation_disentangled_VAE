{
 "cells": [
  {
   "cell_type": "code",
   "execution_count": 12,
   "metadata": {},
   "outputs": [],
   "source": [
    "from deep_traffic_generation.tcvae_pairs import TCVAE_Pairs\n",
    "from deep_traffic_generation.VAE_Generation import PairsVAE\n",
    "from traffic.algorithms.generation import Generation\n",
    "from deep_traffic_generation.core.datasets import TrafficDatasetPairsRandom\n",
    "from traffic.core import Traffic\n",
    "\n",
    "from sklearn.preprocessing import MinMaxScaler\n",
    "import torch\n",
    "import numpy as np\n",
    "from os import walk"
   ]
  },
  {
   "cell_type": "code",
   "execution_count": 3,
   "metadata": {},
   "outputs": [],
   "source": [
    "dataset = TrafficDatasetPairsRandom.from_file(\n",
    "    (\"../deep_traffic_generation/data/training_datasets/to_LSZH_16_50.pkl\", \"../deep_traffic_generation/data/training_datasets/ga_LSZH_14_50.pkl\"),\n",
    "    features=[\"track\", \"groundspeed\", \"altitude\", \"timedelta\"],\n",
    "    n_samples = 2000,\n",
    "    # scaler=MinMaxScaler(feature_range=(-1,1)),\n",
    "    scaler=None,\n",
    "    shape=\"image\",\n",
    "    info_params={\"features\": [\"latitude\", \"longitude\"], \"index\": -1},\n",
    ")"
   ]
  },
  {
   "cell_type": "code",
   "execution_count": 15,
   "metadata": {},
   "outputs": [],
   "source": [
    "a = TrafficDatasetPairsRandom"
   ]
  },
  {
   "cell_type": "code",
   "execution_count": 17,
   "metadata": {},
   "outputs": [
    {
     "data": {
      "text/plain": [
       "False"
      ]
     },
     "execution_count": 17,
     "metadata": {},
     "output_type": "execute_result"
    }
   ],
   "source": [
    "isinstance(a,TrafficDatasetPairsRandom)"
   ]
  },
  {
   "cell_type": "code",
   "execution_count": 11,
   "metadata": {},
   "outputs": [
    {
     "data": {
      "text/plain": [
       "torch.Size([4, 50])"
      ]
     },
     "execution_count": 11,
     "metadata": {},
     "output_type": "execute_result"
    }
   ],
   "source": [
    "dataset.__getitem__(0)[1].shape"
   ]
  },
  {
   "cell_type": "code",
   "execution_count": 5,
   "metadata": {},
   "outputs": [
    {
     "data": {
      "text/plain": [
       "array([['SIA345_2319', 'SWR262D_478'],\n",
       "       ['UAE92A_7164', 'SWR87PL_609'],\n",
       "       ['SWR29M_4734', 'SAS609_318'],\n",
       "       ...,\n",
       "       ['SWR92_6722', 'AFL2390_007'],\n",
       "       ['SWR208U_4040', 'SWR5057_530'],\n",
       "       ['EDW68_1683', 'GAF671_218']], dtype='<U12')"
      ]
     },
     "execution_count": 5,
     "metadata": {},
     "output_type": "execute_result"
    }
   ],
   "source": [
    "dataset.pairs_id"
   ]
  },
  {
   "cell_type": "code",
   "execution_count": null,
   "metadata": {},
   "outputs": [],
   "source": []
  }
 ],
 "metadata": {
  "kernelspec": {
   "display_name": "traf_gen",
   "language": "python",
   "name": "python3"
  },
  "language_info": {
   "codemirror_mode": {
    "name": "ipython",
    "version": 3
   },
   "file_extension": ".py",
   "mimetype": "text/x-python",
   "name": "python",
   "nbconvert_exporter": "python",
   "pygments_lexer": "ipython3",
   "version": "3.10.9"
  },
  "orig_nbformat": 4
 },
 "nbformat": 4,
 "nbformat_minor": 2
}
