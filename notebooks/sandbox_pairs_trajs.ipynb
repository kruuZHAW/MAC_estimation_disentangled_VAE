{
 "cells": [
  {
   "cell_type": "code",
   "execution_count": 1,
   "metadata": {},
   "outputs": [],
   "source": [
    "from deep_traffic_generation.tcvae import TCVAE\n",
    "from deep_traffic_generation.VAE_Generation import SingleStageVAE\n",
    "from traffic.algorithms.generation import Generation\n",
    "from deep_traffic_generation.core.datasets import TrafficDataset, TrafficDatasetPairs\n",
    "from traffic.core import Traffic\n",
    "\n",
    "from sklearn.preprocessing import MinMaxScaler\n",
    "import torch\n",
    "import numpy as np\n",
    "from os import walk"
   ]
  },
  {
   "cell_type": "code",
   "execution_count": 2,
   "metadata": {},
   "outputs": [],
   "source": [
    "traffic1 = Traffic.from_file(\"../deep_traffic_generation/data/training_datasets/landings_south_LFPO_06.pkl\")\n",
    "traffic2 = Traffic.from_file(\"../deep_traffic_generation/data/training_datasets/takeoffs_south_LFPO_07.pkl\")"
   ]
  },
  {
   "cell_type": "code",
   "execution_count": 3,
   "metadata": {},
   "outputs": [],
   "source": [
    "##Attention, peut-être il va falloir appliquer le scaler de manière plus intelligente\n",
    "\n",
    "test = TrafficDatasetPairs.from_file(\n",
    "    (\"../deep_traffic_generation/data/training_datasets/landings_south_LFPO_06.pkl\", \"../deep_traffic_generation/data/training_datasets/takeoffs_south_LFPO_07.pkl\"),\n",
    "    features=[\"track\", \"groundspeed\", \"altitude\", \"timedelta\"],\n",
    "    scaler=MinMaxScaler(feature_range=(-1,1)),\n",
    "    # scaler=None,\n",
    "    shape=\"image\",\n",
    "    info_params={\"features\": [\"latitude\", \"longitude\"], \"index\": -1},\n",
    ")"
   ]
  },
  {
   "cell_type": "code",
   "execution_count": 3,
   "metadata": {},
   "outputs": [],
   "source": [
    "from argparse import Namespace\n",
    "from pathlib import PosixPath\n",
    "\n",
    "config = Namespace(train_ratio=0.8, val_ratio=0.2, batch_size=500, test_batch_size=None, early_stop=None, data_path=[PosixPath('data/training_datasets/landings_LFPO_06.pkl'), PosixPath('data/training_datasets/takeoffs_LFPO_07.pkl')], features=['track', 'groundspeed', 'altitude', 'timedelta'], info_features=[], info_index=None, logger=True, enable_checkpointing=True, default_root_dir=None, gradient_clip_val=0.5, gradient_clip_algorithm=None, num_nodes=1, num_processes=None, devices=None, gpus=None, auto_select_gpus=False, tpu_cores=None, ipus=None, enable_progress_bar=True, overfit_batches=0.0, track_grad_norm=-1, check_val_every_n_epoch=1, fast_dev_run=False, accumulate_grad_batches=None, max_epochs=None, min_epochs=None, max_steps=-1, min_steps=None, max_time=None, limit_train_batches=None, limit_val_batches=None, limit_test_batches=None, limit_predict_batches=None, val_check_interval=None, log_every_n_steps=50, accelerator=None, strategy=None, sync_batchnorm=False, precision=32, enable_model_summary=True, weights_save_path=None, num_sanity_val_steps=2, resume_from_checkpoint=None, profiler=None, benchmark=None, deterministic=None, reload_dataloaders_every_n_epochs=0, auto_lr_find=False, replace_sampler_ddp=True, detect_anomaly=False, auto_scale_batch_size=False, plugins=None, amp_backend='native', amp_level=None, move_metrics_to_cpu=False, multiple_trainloader_mode='max_size_cycle', network_name='tcvae_pairs', lr=0.001, lr_step_size=200, lr_gamma=0.5, dropout=0.0, encoding_dim=128, h_dims=[128, 128, 128], llv_coef=1.0, llv_coef_delta_t=800.0, kld_coef=1.0, reg_pseudo=False, scale=1.0, sampling_factor=10, kernel_size=16, dilation_base=2, n_components=800, prior='vampprior', exemplar_path=None)"
   ]
  },
  {
   "cell_type": "code",
   "execution_count": 4,
   "metadata": {},
   "outputs": [],
   "source": [
    "from deep_traffic_generation.tcvae_pairs import TCVAE_Pairs\n",
    "from deep_traffic_generation.core.utils import get_dataloaders\n",
    "\n",
    "train_loader, val_loader, test_loader = get_dataloaders(\n",
    "    test,\n",
    "    0.8,\n",
    "    0.2,\n",
    "    1000,\n",
    "    100,\n",
    ")\n",
    "\n",
    "model = TCVAE_Pairs(test.parameters, config = config)\n"
   ]
  },
  {
   "cell_type": "code",
   "execution_count": 5,
   "metadata": {},
   "outputs": [],
   "source": [
    "output = model(*model.example_input_array)"
   ]
  },
  {
   "cell_type": "code",
   "execution_count": 13,
   "metadata": {},
   "outputs": [
    {
     "data": {
      "text/plain": [
       "tensor([-1756.2554], grad_fn=<SumBackward1>)"
      ]
     },
     "execution_count": 13,
     "metadata": {},
     "output_type": "execute_result"
    }
   ],
   "source": [
    "model.gaussian_likelihood(model.example_input_array[0], output[2], torch.Tensor([1]))"
   ]
  },
  {
   "cell_type": "code",
   "execution_count": 4,
   "metadata": {},
   "outputs": [],
   "source": [
    "dataset1 = TrafficDataset.from_file(\n",
    "    \"../deep_traffic_generation/data/training_datasets/landings_LFPO_06.pkl\",\n",
    "    features=[\"track\", \"groundspeed\", \"altitude\", \"timedelta\"],\n",
    "    scaler=MinMaxScaler(feature_range=(-1,1)),\n",
    "    shape=\"image\",\n",
    "    info_params={\"features\": [\"latitude\", \"longitude\"], \"index\": -1},\n",
    ")\n",
    "\n",
    "dataset2 = TrafficDataset.from_file(\n",
    "    \"../deep_traffic_generation/data/training_datasets/takeoffs_LFPO_07.pkl\",\n",
    "    features=[\"track\", \"groundspeed\", \"altitude\", \"timedelta\"],\n",
    "    scaler=MinMaxScaler(feature_range=(-1,1)),\n",
    "    shape=\"image\",\n",
    "    info_params={\"features\": [\"latitude\", \"longitude\"], \"index\": -1},\n",
    ")"
   ]
  },
  {
   "cell_type": "code",
   "execution_count": 4,
   "metadata": {},
   "outputs": [],
   "source": [
    "#Code pour 1 seul traffic en entrée\n",
    "\n",
    "path = \"../deep_traffic_generation/lightning_logs/tcvae/version_1/\"\n",
    "\n",
    "t = SingleStageVAE(X = dataset1, sim_type = \"generation\")\n",
    "t.load(path, dataset1.parameters)\n",
    "g = Generation(generation=t, features = t.VAE.hparams.features, scaler=dataset1.scaler) "
   ]
  },
  {
   "cell_type": "code",
   "execution_count": 52,
   "metadata": {},
   "outputs": [],
   "source": [
    "# times1 = traffic1.summary([\"flight_id\", \"start\", \"stop\"])\n",
    "# times2 = traffic2.summary([\"flight_id\", \"start\", \"stop\"])\n",
    "\n",
    "data1 = np.stack(list(np.append([f.flight_id, f.start, f.stop], f.data[[\"track\", \"groundspeed\", \"altitude\", \"timedelta\"]].values.ravel()) for f in traffic1))\n",
    "data2 = np.stack(list(np.append([f.flight_id, f.start, f.stop], f.data[[\"track\", \"groundspeed\", \"altitude\", \"timedelta\"]].values.ravel()) for f in traffic2))\n",
    "\n",
    "# Sort according to start\n",
    "data1 = data1[np.argsort(data1[:,1])]\n",
    "data2 = data2[np.argsort(data2[:,1])]"
   ]
  },
  {
   "cell_type": "code",
   "execution_count": 40,
   "metadata": {},
   "outputs": [
    {
     "data": {
      "application/vnd.jupyter.widget-view+json": {
       "model_id": "7b167390fbc14eab8ff91a73b7b31d47",
       "version_major": 2,
       "version_minor": 0
      },
      "text/plain": [
       "0it [00:00, ?it/s]"
      ]
     },
     "metadata": {},
     "output_type": "display_data"
    }
   ],
   "source": [
    "# Takes 12 min\n",
    "from tqdm.autonotebook import tqdm \n",
    "import itertools\n",
    "import pandas as pd\n",
    "\n",
    "pairs = []\n",
    "\n",
    "for x,y in tqdm(itertools.product(data1,data2)): \n",
    "\n",
    "    delta_t = y[1] - x[1]\n",
    "\n",
    "    if delta_t < pd.Timedelta(0):\n",
    "        pass\n",
    "\n",
    "    #make sure that delta_t is smaller than the total duration of the reference (the takeoff)\n",
    "    elif (delta_t < x[2] - x[1]): \n",
    "        pairs.append(np.concatenate(([x[0], y[0], delta_t], x[3:], y[3:])))\n",
    "\n",
    "    # Next flights only begin after i have finished : only works if sorted \n",
    "    elif delta_t > x[2] - x[1]:\n",
    "        pass\n"
   ]
  },
  {
   "cell_type": "code",
   "execution_count": 42,
   "metadata": {},
   "outputs": [],
   "source": [
    "test = np.stack(pairs)\n",
    "(test[:,2]< pd.Timedelta(0)).sum()"
   ]
  },
  {
   "cell_type": "code",
   "execution_count": 44,
   "metadata": {},
   "outputs": [
    {
     "data": {
      "text/plain": [
       "0"
      ]
     },
     "execution_count": 44,
     "metadata": {},
     "output_type": "execute_result"
    }
   ],
   "source": [
    "(test[:,2]< pd.Timedelta(0)).sum()"
   ]
  },
  {
   "cell_type": "code",
   "execution_count": 29,
   "metadata": {},
   "outputs": [],
   "source": [
    "# 2min\n",
    "\n",
    "from multiprocessing import Pool\n",
    "import itertools\n",
    "import os\n",
    "import pandas as pd\n",
    "\n",
    "# Always the first dataset in argument as reference\n",
    "\n",
    "#Try with multi-processing\n",
    "\n",
    "# iter is a line of the reference array data 1\n",
    "def calculate_pairs(iter):\n",
    "    x, y = iter\n",
    "    delta_t = y[1] - x[1]\n",
    "    len_x = x[2] - x[1]\n",
    "    len_y = y[2] - y[1]\n",
    "\n",
    "    #modified according to sandobox_tcas\n",
    "    if delta_t < -len_y or (delta_t > len_x):\n",
    "        return\n",
    "    \n",
    "    #make sure that delta_t is smaller than the total duration of the reference (the takeoff)\n",
    "    elif (delta_t < len_x): \n",
    "        return np.concatenate(([x[0], y[0], delta_t.total_seconds()], x[3:], y[3:]))\n",
    "\n",
    "\n",
    "with Pool(processes=os.cpu_count()) as p: \n",
    "        pairs = p.map(calculate_pairs, itertools.product(data1,data2))\n",
    "        p.close()\n",
    "        p.join()    "
   ]
  },
  {
   "cell_type": "code",
   "execution_count": 39,
   "metadata": {},
   "outputs": [
    {
     "data": {
      "text/plain": [
       "array([['17LQ_000', 'RAM781S_3669'],\n",
       "       ['A7MBK_001', 'AFR644_832'],\n",
       "       ['A7MBK_001', 'EJU92KQ_2735'],\n",
       "       ...,\n",
       "       ['XK754B_7752', 'TVF48DW_5256'],\n",
       "       ['XK754B_7752', 'TVF7016_5621'],\n",
       "       ['XK754B_7752', 'TVF8074_6114']], dtype=object)"
      ]
     },
     "execution_count": 39,
     "metadata": {},
     "output_type": "execute_result"
    }
   ],
   "source": [
    "test.pairs_id"
   ]
  },
  {
   "cell_type": "code",
   "execution_count": 30,
   "metadata": {},
   "outputs": [
    {
     "data": {
      "text/plain": [
       "17897"
      ]
     },
     "execution_count": 30,
     "metadata": {},
     "output_type": "execute_result"
    }
   ],
   "source": [
    "pairs = np.stack([x for x in pairs if x is not None])\n",
    "len(pairs)"
   ]
  },
  {
   "cell_type": "code",
   "execution_count": 25,
   "metadata": {},
   "outputs": [
    {
     "data": {
      "image/png": "[encoded data removed]",
      "text/plain": [
       "<Figure size 640x480 with 1 Axes>"
      ]
     },
     "metadata": {},
     "output_type": "display_data"
    }
   ],
   "source": [
    "# To calculate delta_t, we take each landing and look at aircrafts that take-off AFTER the landing entered the bubble\n",
    "#That's why every delta_t is positive (unlike sandbox_t_cas_generation)\n",
    "\n",
    "import matplotlib.pyplot as plt\n",
    "times = [x[2].total_seconds() for x in pairs]\n",
    "\n",
    "plt.hist(times, bins = 50)\n",
    "plt.show()"
   ]
  },
  {
   "cell_type": "markdown",
   "metadata": {},
   "source": [
    "# Problem \n",
    "\n",
    "In the classical TCVAE, we have as input a dataset (N, 4, 200) (form of an image). Here, we would like something like (N, 8, 200) + (N, 1) (2 images stacked + one scalar). \n",
    "Methods : \n",
    "- Put the datasets of pairs (N, 8, 200) in the TCVAE, flatten the output, concatenate the scalar and put it in a dense layer. https://stats.stackexchange.com/questions/299322/combining-image-and-scalar-inputs-into-a-neural-network\n",
    "- Other : Learning Hand-Eye Coordination for Robotic Grasping with Deep Learning and Large-Scale Data Collection. It uses the scalar as a bias term, with matching dimensions  "
   ]
  },
  {
   "cell_type": "markdown",
   "metadata": {},
   "source": [
    "For that we have to :\n",
    "- Create a new class in dataset called TrafficDatasetPairs\n",
    "- Create a new tcvae_pairs.py. Pretty much identical that tcvae.py but returns 2 trajectories concatenated + one scalar\n",
    "- Modify TCVAE there to take into account the delta_t after the TCN encoder (we concatenate it within before the final dense layers), and in the decoder the delta_t is outputted right before entering the TCN. \n",
    "- Add a term for the reconstruction of the scalar to the loss (+ scaling it compared to other terms with a reg lambda)\n",
    "\n",
    "Modifications : \n",
    "- The addition of the new neural nets is done in the tcvae_pairs.py file. \n",
    "- We have to find the forward step of the model to split the input (delta_t + trajectories) and to feed it to the right neural networks. That's in the abstract.py file (create a new class as well). In the training step of the class in abstract, batch[0] is the pair of trajecotry, and batch[1] the delta_t. We have to modify also the encoder architecture in tcvae.py.\n",
    "- The addition of the term in the loss is done in the abstract.py file. (We will create a new class)\n"
   ]
  },
  {
   "cell_type": "code",
   "execution_count": 5,
   "metadata": {},
   "outputs": [],
   "source": [
    "from deep_traffic_generation.core.utils import get_dataloaders\n",
    "\n",
    "train_loader, val_loader, test_loader = get_dataloaders(\n",
    "    test,\n",
    "    0.8,\n",
    "    0.2,\n",
    "    100,\n",
    "    100,\n",
    ")"
   ]
  },
  {
   "cell_type": "code",
   "execution_count": 6,
   "metadata": {},
   "outputs": [
    {
     "name": "stdout",
     "output_type": "stream",
     "text": [
      "[tensor([[[3.0379e+02, 3.0389e+02, 3.0389e+02,  ..., 6.1902e+01,\n",
      "          6.1902e+01, 6.2281e+01],\n",
      "         [3.1600e+02, 3.1600e+02, 3.1600e+02,  ..., 1.3400e+02,\n",
      "          1.3400e+02, 1.3300e+02],\n",
      "         [1.2700e+04, 1.2700e+04, 1.2700e+04,  ..., 1.0000e+03,\n",
      "          9.2500e+02, 8.5000e+02],\n",
      "         ...,\n",
      "         [1.5300e+02, 1.5300e+02, 1.5500e+02,  ..., 4.2200e+02,\n",
      "          4.2200e+02, 4.2200e+02],\n",
      "         [3.0500e+03, 3.1250e+03, 3.2500e+03,  ..., 2.3275e+04,\n",
      "          2.3400e+04, 2.3425e+04],\n",
      "         [0.0000e+00, 2.0000e+00, 6.0000e+00,  ..., 5.7000e+02,\n",
      "          5.7400e+02, 5.7600e+02]],\n",
      "\n",
      "        [[3.0866e+02, 3.0876e+02, 3.0876e+02,  ..., 6.1952e+01,\n",
      "          6.1952e+01, 6.1783e+01],\n",
      "         [3.7100e+02, 3.7100e+02, 3.7100e+02,  ..., 1.3800e+02,\n",
      "          1.3800e+02, 1.4000e+02],\n",
      "         [1.2075e+04, 1.2075e+04, 1.2075e+04,  ..., 8.5000e+02,\n",
      "          8.2500e+02, 7.5000e+02],\n",
      "         ...,\n",
      "         [1.5700e+02, 1.5800e+02, 1.5900e+02,  ..., 4.3400e+02,\n",
      "          4.3200e+02, 4.3000e+02],\n",
      "         [2.5500e+03, 2.6750e+03, 2.7250e+03,  ..., 2.3975e+04,\n",
      "          2.4075e+04, 2.4275e+04],\n",
      "         [0.0000e+00, 4.0000e+00, 6.0000e+00,  ..., 6.3600e+02,\n",
      "          6.3800e+02, 6.4200e+02]],\n",
      "\n",
      "        [[3.2422e+02, 3.2415e+02, 3.2405e+02,  ..., 6.1607e+01,\n",
      "          6.2008e+01, 6.1955e+01],\n",
      "         [3.2700e+02, 3.2400e+02, 3.2400e+02,  ..., 1.2500e+02,\n",
      "          1.2600e+02, 1.2100e+02],\n",
      "         [1.3460e+04, 1.3460e+04, 1.3460e+04,  ..., 9.0000e+02,\n",
      "          8.5000e+02, 7.5000e+02],\n",
      "         ...,\n",
      "         [1.5600e+02, 1.5700e+02, 1.5700e+02,  ..., 4.3400e+02,\n",
      "          4.3500e+02, 4.3500e+02],\n",
      "         [2.6500e+03, 2.7250e+03, 2.8500e+03,  ..., 2.1450e+04,\n",
      "          2.1550e+04, 2.1600e+04],\n",
      "         [0.0000e+00, 2.0000e+00, 6.0000e+00,  ..., 5.6200e+02,\n",
      "          5.6600e+02, 5.6800e+02]],\n",
      "\n",
      "        ...,\n",
      "\n",
      "        [[3.1292e+02, 3.1292e+02, 3.1327e+02,  ..., 6.1728e+01,\n",
      "          6.1902e+01, 6.1902e+01],\n",
      "         [3.3000e+02, 3.3000e+02, 3.2800e+02,  ..., 1.3500e+02,\n",
      "          1.3500e+02, 1.3400e+02],\n",
      "         [1.2250e+04, 1.2250e+04, 1.2250e+04,  ..., 1.0750e+03,\n",
      "          1.0000e+03, 9.5000e+02],\n",
      "         ...,\n",
      "         [1.5800e+02, 1.5800e+02, 1.5900e+02,  ..., 3.9900e+02,\n",
      "          3.9900e+02, 4.0000e+02],\n",
      "         [2.7000e+03, 2.8500e+03, 2.9250e+03,  ..., 2.4500e+04,\n",
      "          2.4550e+04, 2.4575e+04],\n",
      "         [0.0000e+00, 4.0000e+00, 6.0000e+00,  ..., 6.4600e+02,\n",
      "          6.4800e+02, 6.5200e+02]],\n",
      "\n",
      "        [[3.2678e+02, 3.2674e+02, 3.2665e+02,  ..., 6.1670e+01,\n",
      "          6.1639e+01, 6.2033e+01],\n",
      "         [3.5851e+02, 3.5819e+02, 3.5770e+02,  ..., 1.3100e+02,\n",
      "          1.2800e+02, 1.2800e+02],\n",
      "         [1.2353e+04, 1.2353e+04, 1.2353e+04,  ..., 8.7500e+02,\n",
      "          8.0000e+02, 7.5000e+02],\n",
      "         ...,\n",
      "         [1.7100e+02, 1.7000e+02, 1.6900e+02,  ..., 4.2200e+02,\n",
      "          4.2300e+02, 4.2300e+02],\n",
      "         [2.1500e+03, 2.3000e+03, 2.4250e+03,  ..., 2.3875e+04,\n",
      "          2.3975e+04, 2.4050e+04],\n",
      "         [0.0000e+00, 4.0000e+00, 8.0000e+00,  ..., 7.2000e+02,\n",
      "          7.2400e+02, 7.2800e+02]],\n",
      "\n",
      "        [[3.1414e+02, 3.1426e+02, 3.1426e+02,  ..., 6.1209e+01,\n",
      "          6.1209e+01, 6.1390e+01],\n",
      "         [3.2900e+02, 3.2800e+02, 3.2700e+02,  ..., 1.2700e+02,\n",
      "          1.2700e+02, 1.2500e+02],\n",
      "         [1.2300e+04, 1.2300e+04, 1.2300e+04,  ..., 1.2250e+03,\n",
      "          1.1500e+03, 1.0750e+03],\n",
      "         ...,\n",
      "         [1.5500e+02, 1.5900e+02, 1.6000e+02,  ..., 4.0600e+02,\n",
      "          4.0600e+02, 4.0700e+02],\n",
      "         [3.0000e+03, 3.1000e+03, 3.1500e+03,  ..., 2.3750e+04,\n",
      "          2.3775e+04, 2.3850e+04],\n",
      "         [0.0000e+00, 4.0000e+00, 6.0000e+00,  ..., 6.2000e+02,\n",
      "          6.2200e+02, 6.2600e+02]]]), tensor([-302.,  968., -358.,  760.,  948.,  438., 1014.,  116., -256.,  700.,\n",
      "         -48.,  384., -128.,  650.,  862.,  162.,   60.,  176.,  558., -286.,\n",
      "        -590., -124., -460.,  644.,   76.,  668.,  614.,   -8., -312.,  270.,\n",
      "         804.,  554.,  188.,  302.,   76., -114.,  562., -114.,  786.,  326.,\n",
      "        -542.,  472.,  292., -548., -112.,  132., -464.,  310., -414., -654.,\n",
      "         752.,  452.,  304., -372.,  428., -360.,  964.,  616.,  870., -330.,\n",
      "         146.,   82.,  -28., -538.,  862., -144., -528.,  164.,  760.,  308.,\n",
      "        -356.,  402.,  274.,  680., -258., -402.,  224.,  590.,  544.,  938.,\n",
      "          78.,  928.,  200.,  180.,   92., -150., -148., -142.,  640.,  196.,\n",
      "        -462.,  374.,  970.,  822.,  556., -464.,  866.,  718.,  172.,  602.])]\n"
     ]
    }
   ],
   "source": [
    "for x in train_loader:\n",
    "    print(x)\n",
    "    break"
   ]
  },
  {
   "cell_type": "code",
   "execution_count": 12,
   "metadata": {},
   "outputs": [
    {
     "data": {
      "text/plain": [
       "tensor([-302.,  968., -358.,  760.,  948.,  438., 1014.,  116., -256.,  700.,\n",
       "         -48.,  384., -128.,  650.,  862.,  162.,   60.,  176.,  558., -286.,\n",
       "        -590., -124., -460.,  644.,   76.,  668.,  614.,   -8., -312.,  270.,\n",
       "         804.,  554.,  188.,  302.,   76., -114.,  562., -114.,  786.,  326.,\n",
       "        -542.,  472.,  292., -548., -112.,  132., -464.,  310., -414., -654.,\n",
       "         752.,  452.,  304., -372.,  428., -360.,  964.,  616.,  870., -330.,\n",
       "         146.,   82.,  -28., -538.,  862., -144., -528.,  164.,  760.,  308.,\n",
       "        -356.,  402.,  274.,  680., -258., -402.,  224.,  590.,  544.,  938.,\n",
       "          78.,  928.,  200.,  180.,   92., -150., -148., -142.,  640.,  196.,\n",
       "        -462.,  374.,  970.,  822.,  556., -464.,  866.,  718.,  172.,  602.])"
      ]
     },
     "execution_count": 12,
     "metadata": {},
     "output_type": "execute_result"
    }
   ],
   "source": [
    "x[1]"
   ]
  },
  {
   "cell_type": "code",
   "execution_count": null,
   "metadata": {},
   "outputs": [],
   "source": []
  }
 ],
 "metadata": {
  "kernelspec": {
   "display_name": "Python 3.9.13 ('tcas')",
   "language": "python",
   "name": "python3"
  },
  "language_info": {
   "codemirror_mode": {
    "name": "ipython",
    "version": 3
   },
   "file_extension": ".py",
   "mimetype": "text/x-python",
   "name": "python",
   "nbconvert_exporter": "python",
   "pygments_lexer": "ipython3",
   "version": "3.9.13"
  },
  "orig_nbformat": 4,
  "vscode": {
   "interpreter": {
    "hash": "0a6671a896d78c2485d323f2ffc62bdd1325d269c4236792e18439313d8ecb79"
   }
  }
 },
 "nbformat": 4,
 "nbformat_minor": 2
}
