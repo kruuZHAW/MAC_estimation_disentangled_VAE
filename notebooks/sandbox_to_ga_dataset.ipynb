{
 "cells": [
  {
   "cell_type": "code",
   "execution_count": 1,
   "metadata": {},
   "outputs": [
    {
     "name": "stderr",
     "output_type": "stream",
     "text": [
      "/tmp/ipykernel_8423/2212634332.py:4: TqdmExperimentalWarning: Using `tqdm.autonotebook.tqdm` in notebook mode. Use `tqdm.tqdm` instead to force console mode (e.g. in jupyter console)\n",
      "  from tqdm.autonotebook import tqdm\n"
     ]
    }
   ],
   "source": [
    "import matplotlib.pyplot as plt\n",
    "import numpy as np\n",
    "import pandas as pd\n",
    "from tqdm.autonotebook import tqdm \n",
    "\n",
    "from shapely.geometry import LineString\n",
    "from shapely.ops import nearest_points\n",
    "\n",
    "from traffic.core import Traffic\n",
    "from traffic.data import airports\n",
    "from traffic.data import navaids"
   ]
  },
  {
   "cell_type": "code",
   "execution_count": 2,
   "metadata": {},
   "outputs": [],
   "source": [
    "t_ga = Traffic.from_file(\"../deep_traffic_generation/data/training_datasets/ga_LSZH_14.pkl\")\n",
    "t_to = Traffic.from_file(\"../deep_traffic_generation/data/training_datasets/to_LSZH_16.pkl\")"
   ]
  },
  {
   "attachments": {},
   "cell_type": "markdown",
   "metadata": {},
   "source": [
    "To do list:\n",
    "- Create a function that associates randomly points from 2 different Trafficdatasets (one to, one ga | See TrafficDatasetPairs)\n",
    "- Create a flag if the pair is crossing or not (or if they have a min distance inferior to 1Nm and 1000 ft)"
   ]
  },
  {
   "cell_type": "code",
   "execution_count": 3,
   "metadata": {},
   "outputs": [],
   "source": [
    "import random\n",
    "\n",
    "f_id_ga = t_ga.flight_ids\n",
    "f_id_to = t_to.flight_ids\n",
    "\n",
    "pairs = [(f1,f2) for f1 in f_id_to for f2 in f_id_ga]\n",
    "choice_id = [random.choice(pairs) for _ in range(10000)]"
   ]
  },
  {
   "cell_type": "code",
   "execution_count": 4,
   "metadata": {},
   "outputs": [
    {
     "data": {
      "application/vnd.jupyter.widget-view+json": {
       "model_id": "ebb0712be6ae4394a0a7695bd317a56b",
       "version_major": 2,
       "version_minor": 0
      },
      "text/plain": [
       "Map(center=[47.458056, 8.548056], controls=(ZoomControl(options=['position', 'zoom_in_text', 'zoom_in_title', …"
      ]
     },
     "metadata": {},
     "output_type": "display_data"
    }
   ],
   "source": [
    "from ipyleaflet import Map, basemaps\n",
    "from ipywidgets import Layout\n",
    "from traffic.data import airports\n",
    "\n",
    "map_ = Map(\n",
    "    center=airports[\"LSZH\"].latlon,\n",
    "    zoom=10,\n",
    "    basemap=basemaps.Stamen.Terrain,\n",
    "    layout=Layout(width=\"100%\", height=\"1000px\"),\n",
    ")\n",
    "\n",
    "map_.add_layer(t_to[choice_id[0][0]])\n",
    "map_.add_layer(t_ga[choice_id[0][1]])\n",
    "\n",
    "map_"
   ]
  },
  {
   "cell_type": "code",
   "execution_count": 5,
   "metadata": {},
   "outputs": [
    {
     "data": {
      "application/vnd.jupyter.widget-view+json": {
       "model_id": "d0434dbb83fd461191fd39bdc98a811a",
       "version_major": 2,
       "version_minor": 0
      },
      "text/plain": [
       "  0%|          | 0/10000 [00:00<?, ?it/s]"
      ]
     },
     "metadata": {},
     "output_type": "display_data"
    },
    {
     "name": "stderr",
     "output_type": "stream",
     "text": [
      "/tmp/ipykernel_8423/4017365723.py:10: ShapelyDeprecationWarning: __len__ for multi-part geometries is deprecated and will be removed in Shapely 2.0. Check the length of the `geoms` property instead to get the  number of parts of a multi-part geometry.\n",
      "  crossings[i] = len(isect)\n"
     ]
    }
   ],
   "source": [
    "from shapely.geometry import Point, MultiPoint\n",
    "\n",
    "crossings = {}\n",
    "for i in tqdm(choice_id):\n",
    "    a = t_to[i[0]]\n",
    "    b = t_ga[i[1]]\n",
    "    isect = a.linestring.intersection(b.linestring)\n",
    "    \n",
    "    if isinstance(isect, MultiPoint):\n",
    "        crossings[i] = len(isect)\n",
    "        \n",
    "    elif isinstance(isect, Point):\n",
    "        crossings[i] = 1\n",
    "    \n",
    "    else:\n",
    "        crossings[i] = 0\n",
    "        "
   ]
  },
  {
   "cell_type": "code",
   "execution_count": 15,
   "metadata": {},
   "outputs": [
    {
     "data": {
      "text/plain": [
       "2    7495\n",
       "0    2440\n",
       "3      30\n",
       "4      16\n",
       "1      12\n",
       "6       1\n",
       "dtype: int64"
      ]
     },
     "execution_count": 15,
     "metadata": {},
     "output_type": "execute_result"
    }
   ],
   "source": [
    "test = pd.Series(crossings)\n",
    "test.value_counts()"
   ]
  },
  {
   "cell_type": "code",
   "execution_count": 9,
   "metadata": {},
   "outputs": [
    {
     "name": "stdout",
     "output_type": "stream",
     "text": [
      "POINT Z (8.626060567768787 47.416393027423446 8834.574540755399)\n",
      "POINT Z (8.68179533167382 47.411835544670346 9339.633411993918)\n",
      "POINT Z (8.634503852467974 47.4118141405333 9336.14153240541)\n",
      "POINT Z (8.688197249697913 47.46255734388703 4861.73196332977)\n",
      "POINT Z (8.693799432928493 47.43686118446189 7439.970776575676)\n",
      "POINT Z (8.612389749972015 47.426391362601656 3844.004700618021)\n"
     ]
    }
   ],
   "source": [
    "#BTI7PY_109 is not smooth at the second crossing point\n",
    "#SWR18_4042 is not smooth\n",
    "\n",
    "#ATTENTION: On a des N+chiffre qui représentent des petits avions\n",
    "\n",
    "isect = t_to['THA971_7256'].linestring.intersection(t_ga['SWR1663_578'].linestring)\n",
    "for t in isect.geoms:\n",
    "    print(t)"
   ]
  },
  {
   "cell_type": "code",
   "execution_count": 10,
   "metadata": {},
   "outputs": [
    {
     "data": {
      "application/vnd.jupyter.widget-view+json": {
       "model_id": "96598d9026d54a20a8765721c0f37340",
       "version_major": 2,
       "version_minor": 0
      },
      "text/plain": [
       "Map(center=[47.458056, 8.548056], controls=(ZoomControl(options=['position', 'zoom_in_text', 'zoom_in_title', …"
      ]
     },
     "metadata": {},
     "output_type": "display_data"
    }
   ],
   "source": [
    "map_ = Map(\n",
    "    center=airports[\"LSZH\"].latlon,\n",
    "    zoom=10,\n",
    "    basemap=basemaps.Stamen.Terrain,\n",
    "    layout=Layout(width=\"100%\", height=\"1000px\"),\n",
    ")\n",
    "\n",
    "map_.add_layer(t_to['THA971_7256'])\n",
    "map_.add_layer(t_ga['SWR1663_578'])\n",
    "\n",
    "map_"
   ]
  },
  {
   "cell_type": "code",
   "execution_count": 61,
   "metadata": {},
   "outputs": [],
   "source": [
    "isect = a.linestring.intersection(b.linestring)\n",
    "lon,lat = nearest_points(a.linestring, isect)[0].coords.xy"
   ]
  },
  {
   "cell_type": "code",
   "execution_count": 64,
   "metadata": {},
   "outputs": [
    {
     "data": {
      "text/plain": [
       "True"
      ]
     },
     "execution_count": 64,
     "metadata": {},
     "output_type": "execute_result"
    }
   ],
   "source": [
    "isinstance(isect, MultiPoint)"
   ]
  },
  {
   "cell_type": "code",
   "execution_count": 26,
   "metadata": {},
   "outputs": [
    {
     "ename": "AttributeError",
     "evalue": "'MultiPoint' object has no attribute 'x'",
     "output_type": "error",
     "traceback": [
      "\u001b[0;31m---------------------------------------------------------------------------\u001b[0m",
      "\u001b[0;31mAttributeError\u001b[0m                            Traceback (most recent call last)",
      "\u001b[1;32m/cluster/home/kruu/trajectory_pairs_generation/notebooks/sandbox_to_ga_dataset.ipynb Cell 6\u001b[0m in \u001b[0;36m<cell line: 1>\u001b[0;34m()\u001b[0m\n\u001b[0;32m----> <a href='vscode-notebook-cell://ssh-remote%2Bsrv-lab-t-251.zhaw.ch/cluster/home/kruu/trajectory_pairs_generation/notebooks/sandbox_to_ga_dataset.ipynb#W2sdnNjb2RlLXJlbW90ZQ%3D%3D?line=0'>1</a>\u001b[0m isect\u001b[39m.\u001b[39;49mx\n",
      "\u001b[0;31mAttributeError\u001b[0m: 'MultiPoint' object has no attribute 'x'"
     ]
    }
   ],
   "source": [
    "isect.x"
   ]
  },
  {
   "cell_type": "code",
   "execution_count": null,
   "metadata": {},
   "outputs": [],
   "source": []
  }
 ],
 "metadata": {
  "kernelspec": {
   "display_name": "pairs_generation",
   "language": "python",
   "name": "python3"
  },
  "language_info": {
   "codemirror_mode": {
    "name": "ipython",
    "version": 3
   },
   "file_extension": ".py",
   "mimetype": "text/x-python",
   "name": "python",
   "nbconvert_exporter": "python",
   "pygments_lexer": "ipython3",
   "version": "3.9.13"
  },
  "orig_nbformat": 4,
  "vscode": {
   "interpreter": {
    "hash": "28a3cd3f5cb72c6a943a2ac4ce0cce03fe93216c6813c76b2962abe15657ea5f"
   }
  }
 },
 "nbformat": 4,
 "nbformat_minor": 2
}
